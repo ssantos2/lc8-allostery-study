{
 "cells": [
  {
   "cell_type": "code",
   "execution_count": 1,
   "id": "06ae1202",
   "metadata": {},
   "outputs": [],
   "source": [
    "### Notes on 7D35\n",
    "# Human LC8 bound to ebola virus VP35(67-76)"
   ]
  },
  {
   "cell_type": "code",
   "execution_count": 26,
   "id": "e460f18f",
   "metadata": {},
   "outputs": [],
   "source": [
    "#Imports\n",
    "import MDAnalysis as mda\n",
    "from MDAnalysis import Universe\n",
    "import MDAnalysis.tests.datafiles\n",
    "from MDAnalysis.tests.datafiles import PSF, DCD, GRO, XTC\n",
    "import MDAnalysis.analysis.base as AnalysisBase\n",
    "from MDAnalysis.analysis import align, rms\n",
    "\n",
    "import matplotlib.pyplot as plt\n",
    "import numpy as np"
   ]
  },
  {
   "cell_type": "code",
   "execution_count": 22,
   "id": "49cf4fc5",
   "metadata": {},
   "outputs": [],
   "source": [
    "#loading various file types\n",
    "pdb = mda.Universe('step3_input.pdb', permissive=True)\n",
    "gro = mda.Universe('step3_input.gro', permissive=True)\n",
    "xtc = mda.Universe('7D35_md_100ns.xtc', permissive=True)\n",
    "\n",
    "#topology and traj files to create universe \n",
    "universe = mda.Universe('7D35_md_100ns.tpr', '7D35_md_100ns.xtc')\n",
    "#simplify\n",
    "u = universe"
   ]
  },
  {
   "cell_type": "code",
   "execution_count": 20,
   "id": "08e0985e",
   "metadata": {},
   "outputs": [
    {
     "name": "stdout",
     "output_type": "stream",
     "text": [
      "11\n"
     ]
    }
   ],
   "source": [
    "print(len(u.trajectory))"
   ]
  },
  {
   "cell_type": "code",
   "execution_count": 28,
   "id": "89e777dd",
   "metadata": {},
   "outputs": [
    {
     "data": {
      "text/plain": [
       "0.36834528266730576"
      ]
     },
     "execution_count": 28,
     "metadata": {},
     "output_type": "execute_result"
    }
   ],
   "source": [
    "ref = mda.Universe('step3_input.pdb', permissive=True)\n",
    "mobile = mda.Universe('7D35_md_100ns.tpr', '7D35_md_100ns.xtc')\n",
    "mobile_CA = mobile.select_atoms(\"name CA\")\n",
    "ref_CA = ref.select_atoms(\"name CA\")\n",
    "MDAnalysis.analysis.rms.rmsd(mobile_CA.positions, ref_CA.positions)"
   ]
  },
  {
   "cell_type": "code",
   "execution_count": 10,
   "id": "f203a076",
   "metadata": {},
   "outputs": [],
   "source": [
    "### Analysis \n",
    "#https://docs.mdanalysis.org/1.1.1/documentation_pages/analysis_modules.html#building-blocks-for-analysis"
   ]
  },
  {
   "cell_type": "code",
   "execution_count": 11,
   "id": "dcaf420f",
   "metadata": {},
   "outputs": [],
   "source": [
    "### Analysis building blocks\n",
    "# class MDAnalysis.analysis.base.AnalysisBase\n",
    "\n",
    "class NewAnalysis():\n",
    "    def __init__(self, atomgroup):\n",
    "        super(NewAnalysis, self).__init__(atomgroup.universe.trajectory)\n",
    "        self._parameter = parameter\n",
    "        self._ag = atomgroup\n",
    "\n",
    "    def _prepare(self):\n",
    "        # OPTIONAL\n",
    "        # Called before iteration on the trajectory has begun.\n",
    "        # Data structures can be set up at this time\n",
    "        self.result = []\n",
    "\n",
    "    def _single_frame(self):\n",
    "        # REQUIRED\n",
    "        # Called after the trajectory is moved onto each new frame.\n",
    "        # store result of `some_function` for a single frame\n",
    "        self.result.append(some_function(self._ag, self._parameter))\n",
    "\n",
    "    def _conclude(self):\n",
    "        # OPTIONAL\n",
    "        # Called once iteration on the trajectory is finished.\n",
    "        # Apply normalisation and averaging to results here.\n",
    "        self.result = np.asarray(self.result) / np.sum(self.result)"
   ]
  },
  {
   "cell_type": "code",
   "execution_count": 12,
   "id": "e343d655",
   "metadata": {},
   "outputs": [],
   "source": [
    "####\n",
    "def rotation_matrix(mobile, ref):\n",
    "    return mda.analysis.align.rotation_matrix(mobile, ref)[0]"
   ]
  },
  {
   "cell_type": "code",
   "execution_count": 19,
   "id": "797febcd",
   "metadata": {},
   "outputs": [
    {
     "ename": "NameError",
     "evalue": "name 'mobile' is not defined",
     "output_type": "error",
     "traceback": [
      "\u001b[1;31m---------------------------------------------------------------------------\u001b[0m",
      "\u001b[1;31mNameError\u001b[0m                                 Traceback (most recent call last)",
      "\u001b[1;32m~\\AppData\\Local\\Temp/ipykernel_13252/1795674418.py\u001b[0m in \u001b[0;36m<module>\u001b[1;34m\u001b[0m\n\u001b[0;32m      1\u001b[0m \u001b[0mRotationMatrix\u001b[0m \u001b[1;33m=\u001b[0m \u001b[0mAnalysisBase\u001b[0m\u001b[1;33m.\u001b[0m\u001b[0manalysis_class\u001b[0m\u001b[1;33m(\u001b[0m\u001b[0mrotation_matrix\u001b[0m\u001b[1;33m)\u001b[0m\u001b[1;33m\u001b[0m\u001b[1;33m\u001b[0m\u001b[0m\n\u001b[1;32m----> 2\u001b[1;33m \u001b[0mrot\u001b[0m \u001b[1;33m=\u001b[0m \u001b[0mRotationMatrix\u001b[0m\u001b[1;33m(\u001b[0m\u001b[0mu\u001b[0m\u001b[1;33m.\u001b[0m\u001b[0mtrajectory\u001b[0m\u001b[1;33m,\u001b[0m \u001b[0mmobile\u001b[0m\u001b[1;33m,\u001b[0m \u001b[0mref\u001b[0m\u001b[1;33m)\u001b[0m\u001b[1;33m.\u001b[0m\u001b[0mrun\u001b[0m\u001b[1;33m(\u001b[0m\u001b[0mstep\u001b[0m\u001b[1;33m=\u001b[0m\u001b[1;36m2\u001b[0m\u001b[1;33m)\u001b[0m\u001b[1;33m\u001b[0m\u001b[1;33m\u001b[0m\u001b[0m\n\u001b[0m\u001b[0;32m      3\u001b[0m \u001b[0mprint\u001b[0m\u001b[1;33m(\u001b[0m\u001b[0mrot\u001b[0m\u001b[1;33m.\u001b[0m\u001b[0mresults\u001b[0m\u001b[1;33m)\u001b[0m\u001b[1;33m\u001b[0m\u001b[1;33m\u001b[0m\u001b[0m\n",
      "\u001b[1;31mNameError\u001b[0m: name 'mobile' is not defined"
     ]
    }
   ],
   "source": [
    "RotationMatrix = AnalysisBase.analysis_class(rotation_matrix)\n",
    "rot = RotationMatrix(u.trajectory, mobile, ref).run(step=2)\n",
    "print(rot.results)"
   ]
  },
  {
   "cell_type": "code",
   "execution_count": null,
   "id": "3223df44",
   "metadata": {},
   "outputs": [],
   "source": [
    "Rgyr = []\n",
    "protein = u.select_atoms(\"protein\")\n",
    "for ts in u.trajectory:\n",
    "    Rgyr.append((u.trajectory.time, protein.radius_of_gyration()))\n",
    "Rgyr = np.array(Rgyr)\n",
    "\n",
    "x = Rgyr[:,0]\n",
    "y = Rgyr[:,1]\n",
    "\n",
    "fig, axs = plt.subplots(1, figsize=(10,10))\n",
    "axs.plot(Rgyr[:,0], Rgyr[:,1], 'b--', lw=2, label=r\"$R_G$\")\n",
    "axs.plot()\n",
    "axs.set_xlabel(\"time (ps)\")\n",
    "axs.set_ylabel(r\"radius of gyration $R_G$ ($\\AA$)\")\n",
    "\n",
    "z = np.polyfit(x, y, 1)\n",
    "p = np.poly1d(z)\n",
    "plt.plot(x,p(x),\"red\")\n",
    "\n",
    "\n",
    "# ax.figure.savefig(\"Rgyr.pdf\")\n",
    "plt.draw()"
   ]
  },
  {
   "cell_type": "code",
   "execution_count": null,
   "id": "df453079",
   "metadata": {},
   "outputs": [],
   "source": [
    "u = universe\n",
    "ref = universe\n",
    "\n",
    "import MDAnalysis.analysis.rms\n",
    "\n",
    "R = MDAnalysis.analysis.rms.RMSD(u, ref,\n",
    "           select=\"backbone\",             # superimpose on whole backbone of the whole protein\n",
    "           groupselections=[\"backbone and (resid 1-29 or resid 60-121 or resid 160-214)\",   # CORE\n",
    "                            \"backbone and resid 122-159\",                                   # LID\n",
    "                            \"backbone and resid 30-59\"])                                    # NMP\n",
    "R.run()\n",
    "\n",
    "import matplotlib.pyplot as plt\n",
    "rmsd = R.rmsd.T   # transpose makes it easier for plotting\n",
    "time = rmsd[1]\n",
    "fig, axs = plt.subplots(1, figsize=(10,10))\n",
    "axs.plot(time, rmsd[2], 'k-',  label=\"all\")\n",
    "axs.legend(loc=\"best\")\n",
    "axs.set_xlabel(\"time (ps)\")\n",
    "axs.set_ylabel(r\"RMSD ($\\AA$)\")\n"
   ]
  },
  {
   "cell_type": "code",
   "execution_count": null,
   "id": "90026548",
   "metadata": {},
   "outputs": [],
   "source": []
  }
 ],
 "metadata": {
  "kernelspec": {
   "display_name": "Python 3 (ipykernel)",
   "language": "python",
   "name": "python3"
  },
  "language_info": {
   "codemirror_mode": {
    "name": "ipython",
    "version": 3
   },
   "file_extension": ".py",
   "mimetype": "text/x-python",
   "name": "python",
   "nbconvert_exporter": "python",
   "pygments_lexer": "ipython3",
   "version": "3.8.12"
  }
 },
 "nbformat": 4,
 "nbformat_minor": 5
}
